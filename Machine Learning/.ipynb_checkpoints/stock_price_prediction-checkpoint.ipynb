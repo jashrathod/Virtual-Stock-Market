{
 "cells": [
  {
   "cell_type": "code",
   "execution_count": 1,
   "metadata": {},
   "outputs": [],
   "source": [
    "import datetime as dt\n",
    "import matplotlib.pyplot as plt\n",
    "from matplotlib import style\n",
    "import pandas as pd\n",
    "import pandas_datareader.data as web"
   ]
  },
  {
   "cell_type": "code",
   "execution_count": 2,
   "metadata": {},
   "outputs": [],
   "source": [
    "style.use('ggplot')"
   ]
  },
  {
   "cell_type": "code",
   "execution_count": 3,
   "metadata": {
    "scrolled": false
   },
   "outputs": [
    {
     "name": "stdout",
     "output_type": "stream",
     "text": [
      "2018-10-19 2019-10-19\n"
     ]
    }
   ],
   "source": [
    "end = dt.date.today()\n",
    "start = end - dt.timedelta(days=1*365)\n",
    "print(start, end)"
   ]
  },
  {
   "cell_type": "code",
   "execution_count": 4,
   "metadata": {
    "scrolled": false
   },
   "outputs": [
    {
     "data": {
      "text/html": [
       "<div>\n",
       "<style scoped>\n",
       "    .dataframe tbody tr th:only-of-type {\n",
       "        vertical-align: middle;\n",
       "    }\n",
       "\n",
       "    .dataframe tbody tr th {\n",
       "        vertical-align: top;\n",
       "    }\n",
       "\n",
       "    .dataframe thead th {\n",
       "        text-align: right;\n",
       "    }\n",
       "</style>\n",
       "<table border=\"1\" class=\"dataframe\">\n",
       "  <thead>\n",
       "    <tr style=\"text-align: right;\">\n",
       "      <th></th>\n",
       "      <th>company</th>\n",
       "      <th>abbreviation</th>\n",
       "    </tr>\n",
       "  </thead>\n",
       "  <tbody>\n",
       "    <tr>\n",
       "      <th>0</th>\n",
       "      <td>Reliance Industries Limited</td>\n",
       "      <td>RELIANCE.NS</td>\n",
       "    </tr>\n",
       "    <tr>\n",
       "      <th>1</th>\n",
       "      <td>Tata Consultancy Services Limited</td>\n",
       "      <td>TCS.NS</td>\n",
       "    </tr>\n",
       "    <tr>\n",
       "      <th>2</th>\n",
       "      <td>HDFC Bank Limited</td>\n",
       "      <td>HDFCBANK.NS</td>\n",
       "    </tr>\n",
       "    <tr>\n",
       "      <th>3</th>\n",
       "      <td>Hindustan Unilever Limited</td>\n",
       "      <td>HINDUNILVR.NS</td>\n",
       "    </tr>\n",
       "    <tr>\n",
       "      <th>4</th>\n",
       "      <td>Infosys Limited</td>\n",
       "      <td>INFY.BO</td>\n",
       "    </tr>\n",
       "    <tr>\n",
       "      <th>5</th>\n",
       "      <td>Kotak Mahindra Bank Limited</td>\n",
       "      <td>KOTAKBANK.BO</td>\n",
       "    </tr>\n",
       "    <tr>\n",
       "      <th>6</th>\n",
       "      <td>ITC Limited</td>\n",
       "      <td>500875.BO</td>\n",
       "    </tr>\n",
       "    <tr>\n",
       "      <th>7</th>\n",
       "      <td>ICICI Bank Limited</td>\n",
       "      <td>ICICIBANK.BO</td>\n",
       "    </tr>\n",
       "    <tr>\n",
       "      <th>8</th>\n",
       "      <td>State Bank of India</td>\n",
       "      <td>SBIN.BO</td>\n",
       "    </tr>\n",
       "    <tr>\n",
       "      <th>9</th>\n",
       "      <td>Bajaj Finance Limited</td>\n",
       "      <td>BAJFINANCE.BO</td>\n",
       "    </tr>\n",
       "    <tr>\n",
       "      <th>10</th>\n",
       "      <td>Maruti Suzuki India Limited</td>\n",
       "      <td>MARUTI.BO</td>\n",
       "    </tr>\n",
       "    <tr>\n",
       "      <th>11</th>\n",
       "      <td>Axis Bank Limited</td>\n",
       "      <td>AXISBANK.BO</td>\n",
       "    </tr>\n",
       "    <tr>\n",
       "      <th>12</th>\n",
       "      <td>Bharti Airtel Limited</td>\n",
       "      <td>BHARTIARTL.NS</td>\n",
       "    </tr>\n",
       "    <tr>\n",
       "      <th>13</th>\n",
       "      <td>Oil and Natural Gas Corporation Limited</td>\n",
       "      <td>ONGC.NS</td>\n",
       "    </tr>\n",
       "    <tr>\n",
       "      <th>14</th>\n",
       "      <td>Asian Paints Limited</td>\n",
       "      <td>ASIANPAINT.BO</td>\n",
       "    </tr>\n",
       "    <tr>\n",
       "      <th>15</th>\n",
       "      <td>Larsen &amp; Toubro Infotech Limited</td>\n",
       "      <td>LTI.NS</td>\n",
       "    </tr>\n",
       "    <tr>\n",
       "      <th>16</th>\n",
       "      <td>Nestle India Limited</td>\n",
       "      <td>NESTLEIND.NS</td>\n",
       "    </tr>\n",
       "    <tr>\n",
       "      <th>17</th>\n",
       "      <td>Wipro Limited</td>\n",
       "      <td>WIPRO.BO</td>\n",
       "    </tr>\n",
       "    <tr>\n",
       "      <th>18</th>\n",
       "      <td>UltraTech Cement Limited</td>\n",
       "      <td>ULTRACEMCO.BO</td>\n",
       "    </tr>\n",
       "    <tr>\n",
       "      <th>19</th>\n",
       "      <td>Mahindra &amp; Mahindra Limited</td>\n",
       "      <td>M&amp;M.NS</td>\n",
       "    </tr>\n",
       "  </tbody>\n",
       "</table>\n",
       "</div>"
      ],
      "text/plain": [
       "                                    company   abbreviation\n",
       "0              Reliance Industries Limited     RELIANCE.NS\n",
       "1         Tata Consultancy Services Limited         TCS.NS\n",
       "2                         HDFC Bank Limited    HDFCBANK.NS\n",
       "3                Hindustan Unilever Limited  HINDUNILVR.NS\n",
       "4                           Infosys Limited        INFY.BO\n",
       "5               Kotak Mahindra Bank Limited   KOTAKBANK.BO\n",
       "6                               ITC Limited      500875.BO\n",
       "7                        ICICI Bank Limited   ICICIBANK.BO\n",
       "8                       State Bank of India        SBIN.BO\n",
       "9                     Bajaj Finance Limited  BAJFINANCE.BO\n",
       "10              Maruti Suzuki India Limited      MARUTI.BO\n",
       "11                        Axis Bank Limited    AXISBANK.BO\n",
       "12                    Bharti Airtel Limited  BHARTIARTL.NS\n",
       "13  Oil and Natural Gas Corporation Limited        ONGC.NS\n",
       "14                     Asian Paints Limited  ASIANPAINT.BO\n",
       "15         Larsen & Toubro Infotech Limited         LTI.NS\n",
       "16                     Nestle India Limited   NESTLEIND.NS\n",
       "17                            Wipro Limited       WIPRO.BO\n",
       "18                 UltraTech Cement Limited  ULTRACEMCO.BO\n",
       "19              Mahindra & Mahindra Limited         M&M.NS"
      ]
     },
     "execution_count": 4,
     "metadata": {},
     "output_type": "execute_result"
    }
   ],
   "source": [
    "stocks_list = pd.read_csv('stocks_list.csv')\n",
    "stocks_list"
   ]
  },
  {
   "cell_type": "code",
   "execution_count": 5,
   "metadata": {
    "scrolled": true
   },
   "outputs": [],
   "source": [
    "for index, row in stocks_list.iterrows():\n",
    "    abbr = row['abbreviation']\n",
    "    df = web.DataReader(abbr, 'yahoo', start, end)\n",
    "#     df['Date'] = df.index\n",
    "#     print(abbr, ': ', df.head(1)) "
   ]
  },
  {
   "cell_type": "code",
   "execution_count": 6,
   "metadata": {},
   "outputs": [
    {
     "data": {
      "text/plain": [
       "(243, 6)"
      ]
     },
     "execution_count": 6,
     "metadata": {},
     "output_type": "execute_result"
    }
   ],
   "source": [
    " df.shape"
   ]
  },
  {
   "cell_type": "code",
   "execution_count": 7,
   "metadata": {},
   "outputs": [
    {
     "name": "stdout",
     "output_type": "stream",
     "text": [
      "<class 'pandas.core.frame.DataFrame'>\n",
      "DatetimeIndex: 243 entries, 2018-10-19 to 2019-10-18\n",
      "Data columns (total 6 columns):\n",
      "High         243 non-null float64\n",
      "Low          243 non-null float64\n",
      "Open         243 non-null float64\n",
      "Close        243 non-null float64\n",
      "Volume       243 non-null float64\n",
      "Adj Close    243 non-null float64\n",
      "dtypes: float64(6)\n",
      "memory usage: 13.3 KB\n"
     ]
    }
   ],
   "source": [
    "df.info()"
   ]
  },
  {
   "cell_type": "code",
   "execution_count": 8,
   "metadata": {},
   "outputs": [
    {
     "data": {
      "text/plain": [
       "datetime.date(2019, 10, 19)"
      ]
     },
     "execution_count": 8,
     "metadata": {},
     "output_type": "execute_result"
    }
   ],
   "source": [
    "today = dt.date.today()\n",
    "today"
   ]
  },
  {
   "cell_type": "code",
   "execution_count": null,
   "metadata": {},
   "outputs": [],
   "source": [
    "from sklearn import datasets, linear_model, metrics "
   ]
  }
 ],
 "metadata": {
  "kernelspec": {
   "display_name": "Python 3",
   "language": "python",
   "name": "python3"
  },
  "language_info": {
   "codemirror_mode": {
    "name": "ipython",
    "version": 3
   },
   "file_extension": ".py",
   "mimetype": "text/x-python",
   "name": "python",
   "nbconvert_exporter": "python",
   "pygments_lexer": "ipython3",
   "version": "3.6.7"
  }
 },
 "nbformat": 4,
 "nbformat_minor": 2
}
