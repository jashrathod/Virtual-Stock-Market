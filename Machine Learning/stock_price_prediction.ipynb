{
 "cells": [
  {
   "cell_type": "code",
   "execution_count": 13,
   "metadata": {},
   "outputs": [],
   "source": [
    "import datetime as dt\n",
    "import matplotlib.pyplot as plt\n",
    "from matplotlib import style\n",
    "import pandas as pd\n",
    "import pandas_datareader.data as web"
   ]
  },
  {
   "cell_type": "code",
   "execution_count": 14,
   "metadata": {},
   "outputs": [],
   "source": [
    "style.use('ggplot')"
   ]
  },
  {
   "cell_type": "code",
   "execution_count": 15,
   "metadata": {
    "scrolled": false
   },
   "outputs": [
    {
     "name": "stdout",
     "output_type": "stream",
     "text": [
      "2018-10-19 2019-10-19\n"
     ]
    }
   ],
   "source": [
    "end = dt.date.today()\n",
    "start = end - dt.timedelta(days=1*365)\n",
    "print(start, end)"
   ]
  },
  {
   "cell_type": "code",
   "execution_count": 16,
   "metadata": {
    "scrolled": false
   },
   "outputs": [
    {
     "data": {
      "text/html": [
       "<div>\n",
       "<style scoped>\n",
       "    .dataframe tbody tr th:only-of-type {\n",
       "        vertical-align: middle;\n",
       "    }\n",
       "\n",
       "    .dataframe tbody tr th {\n",
       "        vertical-align: top;\n",
       "    }\n",
       "\n",
       "    .dataframe thead th {\n",
       "        text-align: right;\n",
       "    }\n",
       "</style>\n",
       "<table border=\"1\" class=\"dataframe\">\n",
       "  <thead>\n",
       "    <tr style=\"text-align: right;\">\n",
       "      <th></th>\n",
       "      <th>company</th>\n",
       "      <th>abbreviation</th>\n",
       "    </tr>\n",
       "  </thead>\n",
       "  <tbody>\n",
       "    <tr>\n",
       "      <th>0</th>\n",
       "      <td>Reliance Industries Limited</td>\n",
       "      <td>RELIANCE.NS</td>\n",
       "    </tr>\n",
       "    <tr>\n",
       "      <th>1</th>\n",
       "      <td>Tata Consultancy Services Limited</td>\n",
       "      <td>TCS.NS</td>\n",
       "    </tr>\n",
       "    <tr>\n",
       "      <th>2</th>\n",
       "      <td>HDFC Bank Limited</td>\n",
       "      <td>HDFCBANK.NS</td>\n",
       "    </tr>\n",
       "    <tr>\n",
       "      <th>3</th>\n",
       "      <td>Hindustan Unilever Limited</td>\n",
       "      <td>HINDUNILVR.NS</td>\n",
       "    </tr>\n",
       "    <tr>\n",
       "      <th>4</th>\n",
       "      <td>Infosys Limited</td>\n",
       "      <td>INFY.BO</td>\n",
       "    </tr>\n",
       "    <tr>\n",
       "      <th>5</th>\n",
       "      <td>Kotak Mahindra Bank Limited</td>\n",
       "      <td>KOTAKBANK.BO</td>\n",
       "    </tr>\n",
       "    <tr>\n",
       "      <th>6</th>\n",
       "      <td>ITC Limited</td>\n",
       "      <td>500875.BO</td>\n",
       "    </tr>\n",
       "    <tr>\n",
       "      <th>7</th>\n",
       "      <td>ICICI Bank Limited</td>\n",
       "      <td>ICICIBANK.BO</td>\n",
       "    </tr>\n",
       "    <tr>\n",
       "      <th>8</th>\n",
       "      <td>State Bank of India</td>\n",
       "      <td>SBIN.BO</td>\n",
       "    </tr>\n",
       "    <tr>\n",
       "      <th>9</th>\n",
       "      <td>Bajaj Finance Limited</td>\n",
       "      <td>BAJFINANCE.BO</td>\n",
       "    </tr>\n",
       "    <tr>\n",
       "      <th>10</th>\n",
       "      <td>Maruti Suzuki India Limited</td>\n",
       "      <td>MARUTI.BO</td>\n",
       "    </tr>\n",
       "    <tr>\n",
       "      <th>11</th>\n",
       "      <td>Axis Bank Limited</td>\n",
       "      <td>AXISBANK.BO</td>\n",
       "    </tr>\n",
       "    <tr>\n",
       "      <th>12</th>\n",
       "      <td>Bharti Airtel Limited</td>\n",
       "      <td>BHARTIARTL.NS</td>\n",
       "    </tr>\n",
       "    <tr>\n",
       "      <th>13</th>\n",
       "      <td>Oil and Natural Gas Corporation Limited</td>\n",
       "      <td>ONGC.NS</td>\n",
       "    </tr>\n",
       "    <tr>\n",
       "      <th>14</th>\n",
       "      <td>Asian Paints Limited</td>\n",
       "      <td>ASIANPAINT.BO</td>\n",
       "    </tr>\n",
       "    <tr>\n",
       "      <th>15</th>\n",
       "      <td>Larsen &amp; Toubro Infotech Limited</td>\n",
       "      <td>LTI.NS</td>\n",
       "    </tr>\n",
       "    <tr>\n",
       "      <th>16</th>\n",
       "      <td>Nestle India Limited</td>\n",
       "      <td>NESTLEIND.NS</td>\n",
       "    </tr>\n",
       "    <tr>\n",
       "      <th>17</th>\n",
       "      <td>Wipro Limited</td>\n",
       "      <td>WIPRO.BO</td>\n",
       "    </tr>\n",
       "    <tr>\n",
       "      <th>18</th>\n",
       "      <td>UltraTech Cement Limited</td>\n",
       "      <td>ULTRACEMCO.BO</td>\n",
       "    </tr>\n",
       "    <tr>\n",
       "      <th>19</th>\n",
       "      <td>Mahindra &amp; Mahindra Limited</td>\n",
       "      <td>M&amp;M.NS</td>\n",
       "    </tr>\n",
       "  </tbody>\n",
       "</table>\n",
       "</div>"
      ],
      "text/plain": [
       "                                    company   abbreviation\n",
       "0              Reliance Industries Limited     RELIANCE.NS\n",
       "1         Tata Consultancy Services Limited         TCS.NS\n",
       "2                         HDFC Bank Limited    HDFCBANK.NS\n",
       "3                Hindustan Unilever Limited  HINDUNILVR.NS\n",
       "4                           Infosys Limited        INFY.BO\n",
       "5               Kotak Mahindra Bank Limited   KOTAKBANK.BO\n",
       "6                               ITC Limited      500875.BO\n",
       "7                        ICICI Bank Limited   ICICIBANK.BO\n",
       "8                       State Bank of India        SBIN.BO\n",
       "9                     Bajaj Finance Limited  BAJFINANCE.BO\n",
       "10              Maruti Suzuki India Limited      MARUTI.BO\n",
       "11                        Axis Bank Limited    AXISBANK.BO\n",
       "12                    Bharti Airtel Limited  BHARTIARTL.NS\n",
       "13  Oil and Natural Gas Corporation Limited        ONGC.NS\n",
       "14                     Asian Paints Limited  ASIANPAINT.BO\n",
       "15         Larsen & Toubro Infotech Limited         LTI.NS\n",
       "16                     Nestle India Limited   NESTLEIND.NS\n",
       "17                            Wipro Limited       WIPRO.BO\n",
       "18                 UltraTech Cement Limited  ULTRACEMCO.BO\n",
       "19              Mahindra & Mahindra Limited         M&M.NS"
      ]
     },
     "execution_count": 16,
     "metadata": {},
     "output_type": "execute_result"
    }
   ],
   "source": [
    "stocks_list = pd.read_csv('stocks_list.csv')\n",
    "stocks_list"
   ]
  },
  {
   "cell_type": "code",
   "execution_count": 17,
   "metadata": {
    "scrolled": true
   },
   "outputs": [
    {
     "name": "stdout",
     "output_type": "stream",
     "text": [
      "RELIANCE.NS :                High      Low    Open        Close      Volume    Adj Close\n",
      "Date                                                                     \n",
      "2018-10-19  1111.0  1070.25  1100.0  1101.300049  25421229.0  1095.234863\n",
      "TCS.NS :                High          Low    Open        Close     Volume    Adj Close\n",
      "Date                                                                        \n",
      "2018-10-19  1929.0  1870.050049  1929.0  1913.199951  3428776.0  1880.791504\n",
      "HDFCBANK.NS :                    High    Low        Open    Close     Volume   Adj Close\n",
      "Date                                                                     \n",
      "2018-10-19  990.424988  979.0  979.450012  983.875  4933674.0  967.404602\n",
      "HINDUNILVR.NS :                 High          Low         Open        Close    Volume  \\\n",
      "Date                                                                   \n",
      "2018-10-19  1585.75  1543.050049  1551.199951  1578.400024  932433.0   \n",
      "\n",
      "              Adj Close  \n",
      "Date                     \n",
      "2018-10-19  1558.181152  \n",
      "INFY.BO :               High    Low   Open       Close    Volume   Adj Close\n",
      "Date                                                             \n",
      "2019-05-21  723.5  707.0  723.5  709.200012  511790.0  699.323242\n",
      "KOTAKBANK.BO :                High          Low         Open        Close    Volume  \\\n",
      "Date                                                                  \n",
      "2018-10-19  1206.0  1161.699951  1163.949951  1199.550049  148620.0   \n",
      "\n",
      "              Adj Close  \n",
      "Date                     \n",
      "2018-10-19  1198.903931  \n",
      "500875.BO :                High  Low   Open  Close  Volume  Adj Close\n",
      "Date                                                    \n",
      "2019-10-18  247.75  245  246.5  246.5  398307      246.5\n",
      "ICICIBANK.BO :                    High         Low        Open       Close    Volume  \\\n",
      "Date                                                                   \n",
      "2018-10-19  321.549988  310.299988  314.700012  314.899994  658068.0   \n",
      "\n",
      "             Adj Close  \n",
      "Date                    \n",
      "2018-10-19  313.369141  \n",
      "SBIN.BO :               High         Low   Open       Close     Volume   Adj Close\n",
      "Date                                                                   \n",
      "2018-10-19  264.0  258.100006  260.0  260.850006  1526541.0  260.850006\n",
      "BAJFINANCE.BO :                     High     Low    Open    Close    Volume    Adj Close\n",
      "Date                                                                   \n",
      "2018-10-19  2195.949951  2055.0  2164.0  2140.75  285001.0  2137.001465\n",
      "MARUTI.BO :                     High     Low    Open        Close   Volume    Adj Close\n",
      "Date                                                                      \n",
      "2018-10-19  6963.950195  6721.0  6854.0  6760.350098  88725.0  6667.311523\n",
      "AXISBANK.BO :                High    Low        Open       Close    Volume   Adj Close\n",
      "Date                                                                   \n",
      "2018-10-19  576.25  555.0  574.599976  562.200012  576628.0  561.502747\n",
      "BHARTIARTL.NS :                    High         Low        Open       Close     Volume  \\\n",
      "Date                                                                    \n",
      "2018-10-19  269.209991  261.313995  263.516998  263.792999  4062748.0   \n",
      "\n",
      "            Adj Close  \n",
      "Date                   \n",
      "2018-10-19   261.4151  \n",
      "ONGC.NS :                High    Low   Open       Close     Volume   Adj Close\n",
      "Date                                                               \n",
      "2018-10-19  163.75  157.0  162.5  160.449997  7258192.0  152.831268\n",
      "ASIANPAINT.BO :                     High          Low         Open        Close    Volume  \\\n",
      "Date                                                                       \n",
      "2018-10-19  1287.400024  1221.949951  1267.900024  1237.949951  184590.0   \n",
      "\n",
      "              Adj Close  \n",
      "Date                     \n",
      "2018-10-19  1228.356445  \n",
      "LTI.NS :                     High     Low         Open        Close    Volume  \\\n",
      "Date                                                                  \n",
      "2018-10-19  1818.849976  1705.0  1818.849976  1742.800049  483528.0   \n",
      "\n",
      "              Adj Close  \n",
      "Date                     \n",
      "2018-10-19  1713.054932  \n",
      "NESTLEIND.NS :                     High     Low         Open        Close   Volume  \\\n",
      "Date                                                                 \n",
      "2018-10-19  9695.150391  9480.0  9676.200195  9609.049805  69090.0   \n",
      "\n",
      "              Adj Close  \n",
      "Date                     \n",
      "2018-10-19  9480.868164  \n",
      "WIPRO.BO :                High         Low    Open       Close    Volume   Adj Close\n",
      "Date                                                                    \n",
      "2018-10-19  243.75  238.238007  243.75  242.287994  126913.0  241.378372\n",
      "ULTRACEMCO.BO :                High          Low    Open        Close   Volume    Adj Close\n",
      "Date                                                                      \n",
      "2018-10-19  3652.5  3529.050049  3640.0  3609.449951  33882.0  3600.218018\n",
      "M&M.NS :               High         Low        Open       Close     Volume  Adj Close\n",
      "Date                                                                       \n",
      "2018-10-19  758.0  732.099976  748.099976  741.200012  2985488.0   731.0047\n"
     ]
    }
   ],
   "source": [
    "for index, row in stocks_list.iterrows():\n",
    "    abbr = row['abbreviation']\n",
    "    df = web.DataReader(abbr, 'yahoo', start, end)\n",
    "#     df['Date'] = df.index\n",
    "    print(abbr, ': ', df.head(1)) "
   ]
  },
  {
   "cell_type": "code",
   "execution_count": 18,
   "metadata": {},
   "outputs": [
    {
     "data": {
      "text/plain": [
       "(243, 6)"
      ]
     },
     "execution_count": 18,
     "metadata": {},
     "output_type": "execute_result"
    }
   ],
   "source": [
    " df.shape"
   ]
  },
  {
   "cell_type": "code",
   "execution_count": 19,
   "metadata": {},
   "outputs": [
    {
     "name": "stdout",
     "output_type": "stream",
     "text": [
      "<class 'pandas.core.frame.DataFrame'>\n",
      "DatetimeIndex: 243 entries, 2018-10-19 to 2019-10-18\n",
      "Data columns (total 6 columns):\n",
      "High         243 non-null float64\n",
      "Low          243 non-null float64\n",
      "Open         243 non-null float64\n",
      "Close        243 non-null float64\n",
      "Volume       243 non-null float64\n",
      "Adj Close    243 non-null float64\n",
      "dtypes: float64(6)\n",
      "memory usage: 13.3 KB\n"
     ]
    }
   ],
   "source": [
    "df.info()"
   ]
  },
  {
   "cell_type": "code",
   "execution_count": 20,
   "metadata": {},
   "outputs": [
    {
     "data": {
      "text/plain": [
       "datetime.date(2019, 10, 19)"
      ]
     },
     "execution_count": 20,
     "metadata": {},
     "output_type": "execute_result"
    }
   ],
   "source": [
    "today = dt.date.today()\n",
    "today"
   ]
  },
  {
   "cell_type": "code",
   "execution_count": 34,
   "metadata": {},
   "outputs": [
    {
     "name": "stdout",
     "output_type": "stream",
     "text": [
      "Date\n",
      "2019-10-18    593.299988\n",
      "Name: Adj Close, dtype: float64 [588.78262193]\n"
     ]
    }
   ],
   "source": [
    "from sklearn import linear_model\n",
    "\n",
    "X = df.drop('Adj Close', axis=1) \n",
    "y = df['Adj Close']\n",
    "\n",
    "X_train = X[:-1]\n",
    "X_test = X[-1:]\n",
    "y_train = y[:-1]\n",
    "y_test = y[-1:]\n",
    "   \n",
    "reg = linear_model.LinearRegression() \n",
    "  \n",
    "reg.fit(X_train, y_train)\n",
    "\n",
    "y_pred = reg.predict(X_test)\n",
    "\n",
    "print"
   ]
  },
  {
   "cell_type": "code",
   "execution_count": 66,
   "metadata": {},
   "outputs": [],
   "source": [
    "y_test = pd.DataFrame(y_test)\n",
    "y_test = y_test.reset_index(drop=True)"
   ]
  },
  {
   "cell_type": "code",
   "execution_count": 78,
   "metadata": {},
   "outputs": [],
   "source": [
    "y_pred = pd.DataFrame(y_pred)\n",
    "df3 = y_test.join(y_pred)\n",
    "df3.columns = ['Actual', 'Predicted']"
   ]
  },
  {
   "cell_type": "code",
   "execution_count": 79,
   "metadata": {},
   "outputs": [
    {
     "data": {
      "text/html": [
       "<div>\n",
       "<style scoped>\n",
       "    .dataframe tbody tr th:only-of-type {\n",
       "        vertical-align: middle;\n",
       "    }\n",
       "\n",
       "    .dataframe tbody tr th {\n",
       "        vertical-align: top;\n",
       "    }\n",
       "\n",
       "    .dataframe thead th {\n",
       "        text-align: right;\n",
       "    }\n",
       "</style>\n",
       "<table border=\"1\" class=\"dataframe\">\n",
       "  <thead>\n",
       "    <tr style=\"text-align: right;\">\n",
       "      <th></th>\n",
       "      <th>Actual</th>\n",
       "      <th>Predicted</th>\n",
       "    </tr>\n",
       "  </thead>\n",
       "  <tbody>\n",
       "    <tr>\n",
       "      <th>0</th>\n",
       "      <td>593.299988</td>\n",
       "      <td>588.782622</td>\n",
       "    </tr>\n",
       "  </tbody>\n",
       "</table>\n",
       "</div>"
      ],
      "text/plain": [
       "       Actual   Predicted\n",
       "0  593.299988  588.782622"
      ]
     },
     "execution_count": 79,
     "metadata": {},
     "output_type": "execute_result"
    }
   ],
   "source": [
    "df3"
   ]
  }
 ],
 "metadata": {
  "kernelspec": {
   "display_name": "Python 3",
   "language": "python",
   "name": "python3"
  },
  "language_info": {
   "codemirror_mode": {
    "name": "ipython",
    "version": 3
   },
   "file_extension": ".py",
   "mimetype": "text/x-python",
   "name": "python",
   "nbconvert_exporter": "python",
   "pygments_lexer": "ipython3",
   "version": "3.6.7"
  }
 },
 "nbformat": 4,
 "nbformat_minor": 2
}
